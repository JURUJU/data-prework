{
 "cells": [
  {
   "cell_type": "code",
   "execution_count": 2,
   "metadata": {},
   "outputs": [
    {
     "name": "stdout",
     "output_type": "stream",
     "text": [
      "['rock', 'paper', 'scissors']\n",
      "3\n",
      "2\n",
      "Computer chooses: scissors\n",
      "Choose your option: paper\n",
      "Choose your option: rock\n",
      "Choose your option: gun\n",
      "Try again, use a valid answer\n"
     ]
    },
    {
     "ename": "KeyboardInterrupt",
     "evalue": "Interrupted by user",
     "output_type": "error",
     "traceback": [
      "\u001b[1;31m---------------------------------------------------------------------------\u001b[0m",
      "\u001b[1;31mKeyboardInterrupt\u001b[0m                         Traceback (most recent call last)",
      "\u001b[1;32m<ipython-input-2-93114db6f314>\u001b[0m in \u001b[0;36m<module>\u001b[1;34m\u001b[0m\n\u001b[0;32m     16\u001b[0m     \u001b[1;32mwhile\u001b[0m \u001b[0muser_choice\u001b[0m \u001b[1;32mnot\u001b[0m \u001b[1;32min\u001b[0m \u001b[0mgestures\u001b[0m\u001b[1;33m:\u001b[0m\u001b[1;33m\u001b[0m\u001b[1;33m\u001b[0m\u001b[0m\n\u001b[0;32m     17\u001b[0m         \u001b[0mprint\u001b[0m\u001b[1;33m(\u001b[0m\u001b[1;34m\"Try again, use a valid answer\"\u001b[0m\u001b[1;33m)\u001b[0m\u001b[1;33m\u001b[0m\u001b[1;33m\u001b[0m\u001b[0m\n\u001b[1;32m---> 18\u001b[1;33m         \u001b[0muser_choice\u001b[0m \u001b[1;33m=\u001b[0m \u001b[0minput\u001b[0m\u001b[1;33m(\u001b[0m\u001b[1;34m\"Choose your option: \"\u001b[0m\u001b[1;33m)\u001b[0m\u001b[1;33m\u001b[0m\u001b[1;33m\u001b[0m\u001b[0m\n\u001b[0m\u001b[0;32m     19\u001b[0m \u001b[1;32mif\u001b[0m \u001b[0muser_choice\u001b[0m\u001b[1;33m==\u001b[0m\u001b[1;34m\"rock\"\u001b[0m\u001b[1;33m:\u001b[0m\u001b[1;33m\u001b[0m\u001b[1;33m\u001b[0m\u001b[0m\n\u001b[0;32m     20\u001b[0m     \u001b[1;32mif\u001b[0m \u001b[0mcomputer_choice\u001b[0m\u001b[1;33m==\u001b[0m\u001b[1;34m\"rock\"\u001b[0m\u001b[1;33m:\u001b[0m\u001b[1;33m\u001b[0m\u001b[1;33m\u001b[0m\u001b[0m\n",
      "\u001b[1;32m~\\anaconda\\lib\\site-packages\\ipykernel\\kernelbase.py\u001b[0m in \u001b[0;36mraw_input\u001b[1;34m(self, prompt)\u001b[0m\n\u001b[0;32m    858\u001b[0m                 \u001b[1;34m\"raw_input was called, but this frontend does not support input requests.\"\u001b[0m\u001b[1;33m\u001b[0m\u001b[1;33m\u001b[0m\u001b[0m\n\u001b[0;32m    859\u001b[0m             )\n\u001b[1;32m--> 860\u001b[1;33m         return self._input_request(str(prompt),\n\u001b[0m\u001b[0;32m    861\u001b[0m             \u001b[0mself\u001b[0m\u001b[1;33m.\u001b[0m\u001b[0m_parent_ident\u001b[0m\u001b[1;33m,\u001b[0m\u001b[1;33m\u001b[0m\u001b[1;33m\u001b[0m\u001b[0m\n\u001b[0;32m    862\u001b[0m             \u001b[0mself\u001b[0m\u001b[1;33m.\u001b[0m\u001b[0m_parent_header\u001b[0m\u001b[1;33m,\u001b[0m\u001b[1;33m\u001b[0m\u001b[1;33m\u001b[0m\u001b[0m\n",
      "\u001b[1;32m~\\anaconda\\lib\\site-packages\\ipykernel\\kernelbase.py\u001b[0m in \u001b[0;36m_input_request\u001b[1;34m(self, prompt, ident, parent, password)\u001b[0m\n\u001b[0;32m    902\u001b[0m             \u001b[1;32mexcept\u001b[0m \u001b[0mKeyboardInterrupt\u001b[0m\u001b[1;33m:\u001b[0m\u001b[1;33m\u001b[0m\u001b[1;33m\u001b[0m\u001b[0m\n\u001b[0;32m    903\u001b[0m                 \u001b[1;31m# re-raise KeyboardInterrupt, to truncate traceback\u001b[0m\u001b[1;33m\u001b[0m\u001b[1;33m\u001b[0m\u001b[1;33m\u001b[0m\u001b[0m\n\u001b[1;32m--> 904\u001b[1;33m                 \u001b[1;32mraise\u001b[0m \u001b[0mKeyboardInterrupt\u001b[0m\u001b[1;33m(\u001b[0m\u001b[1;34m\"Interrupted by user\"\u001b[0m\u001b[1;33m)\u001b[0m \u001b[1;32mfrom\u001b[0m \u001b[1;32mNone\u001b[0m\u001b[1;33m\u001b[0m\u001b[1;33m\u001b[0m\u001b[0m\n\u001b[0m\u001b[0;32m    905\u001b[0m             \u001b[1;32mexcept\u001b[0m \u001b[0mException\u001b[0m \u001b[1;32mas\u001b[0m \u001b[0me\u001b[0m\u001b[1;33m:\u001b[0m\u001b[1;33m\u001b[0m\u001b[1;33m\u001b[0m\u001b[0m\n\u001b[0;32m    906\u001b[0m                 \u001b[0mself\u001b[0m\u001b[1;33m.\u001b[0m\u001b[0mlog\u001b[0m\u001b[1;33m.\u001b[0m\u001b[0mwarning\u001b[0m\u001b[1;33m(\u001b[0m\u001b[1;34m\"Invalid Message:\"\u001b[0m\u001b[1;33m,\u001b[0m \u001b[0mexc_info\u001b[0m\u001b[1;33m=\u001b[0m\u001b[1;32mTrue\u001b[0m\u001b[1;33m)\u001b[0m\u001b[1;33m\u001b[0m\u001b[1;33m\u001b[0m\u001b[0m\n",
      "\u001b[1;31mKeyboardInterrupt\u001b[0m: Interrupted by user"
     ]
    }
   ],
   "source": [
    "import random\n",
    "gestures=[\"rock\",\"paper\",\"scissors\"]\n",
    "print(gestures)\n",
    "n_rounds=3\n",
    "print(n_rounds)\n",
    "rounds_to_win=n_rounds-1\n",
    "print(rounds_to_win)\n",
    "n_rounds_played=0\n",
    "round_winner=0\n",
    "cpu_score=0\n",
    "player_score=0\n",
    "computer_choice=random.choice(gestures)\n",
    "print(\"Computer chooses:\",computer_choice)\n",
    "while cpu_score or player_score < 3 and n_rounds_played <= n_rounds:\n",
    "    user_choice = input(\"Choose your option: \")\n",
    "    while user_choice not in gestures:\n",
    "        print(\"Try again, use a valid answer\")\n",
    "        user_choice = input(\"Choose your option: \")\n",
    "if user_choice==\"rock\":\n",
    "    if computer_choice==\"rock\":\n",
    "        round_winner=0\n",
    "    elif computer_choice==\"paper\":\n",
    "        round_winner=1\n",
    "    elif computer_choice==\"scissors\":\n",
    "        round_winner=2\n",
    "if user_choice==\"paper\":\n",
    "    if computer_choice==\"rock\":\n",
    "        round_winner=2\n",
    "    elif computer_choice==\"paper\":\n",
    "        round_winner=0\n",
    "    elif computer_choice==\"scissors\":\n",
    "        round_winner=1\n",
    "if user_choice==\"scissors\":\n",
    "    if computer_choice==\"rock\":\n",
    "        round_winner=1\n",
    "    elif computer_choice==\"paper\":\n",
    "        round_winner=2\n",
    "    elif computer_choice==\"scissors\":\n",
    "        round_winner=0\n",
    "print(\"User chooses\",user_choice)\n",
    "print(\"Computer chooses\",computer_choice)\n",
    "\n",
    "if round_winner == 0:\n",
    "    n_rounds_played +=1\n",
    "    print(\"Tie\")\n",
    "        \n",
    "elif round_winner == 1:\n",
    "    n_rounds_played +=1\n",
    "    print(\"Computer wins the round\")\n",
    "        \n",
    "else:\n",
    "    n_rounds_played +=1\n",
    "    print(\"User wins the round\")\n",
    "        \n",
    "\n",
    "if round_winner == 1:\n",
    "        cpu_score += 1\n",
    "elif round_winner == 2:\n",
    "        player_score +=1\n",
    "        \n",
    "if cpu_score == rounds_to_win:\n",
    "    print(\"Computer won the game\")\n",
    "    print(\"The game is over, computer won\")\n",
    "\n",
    "            \n",
    "elif player_score == rounds_to_win:\n",
    "    print(\"User won the game\")\n",
    "    print(\"The game is over, user won\")\n",
    "\n",
    "          \n",
    "elif n_rounds_played == n_rounds:\n",
    "    print(\"The game is over, no winner\")"
   ]
  },
  {
   "cell_type": "code",
   "execution_count": null,
   "metadata": {},
   "outputs": [],
   "source": []
  }
 ],
 "metadata": {
  "kernelspec": {
   "display_name": "Python 3",
   "language": "python",
   "name": "python3"
  },
  "language_info": {
   "codemirror_mode": {
    "name": "ipython",
    "version": 3
   },
   "file_extension": ".py",
   "mimetype": "text/x-python",
   "name": "python",
   "nbconvert_exporter": "python",
   "pygments_lexer": "ipython3",
   "version": "3.8.5"
  }
 },
 "nbformat": 4,
 "nbformat_minor": 4
}
